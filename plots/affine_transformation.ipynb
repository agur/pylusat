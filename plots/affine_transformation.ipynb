{
 "cells": [
  {
   "cell_type": "markdown",
   "metadata": {},
   "source": [
    "## affine transformation matrix (the augmented matrix in equation)\n",
    "\n",
    "\\begin{equation}\n",
    "    \\begin{bmatrix}\n",
    "        v_x\\\\\n",
    "        v_y\\\\\n",
    "        1\n",
    "    \\end{bmatrix}\n",
    "    =\n",
    "    \\begin{bmatrix}\n",
    "        c & 0 & l\\\\\n",
    "        0 & -c & t\\\\\n",
    "        0 & 0 & 1\n",
    "    \\end{bmatrix}\n",
    "    \\begin{bmatrix}\n",
    "        r_x\\\\\n",
    "        r_y\\\\\n",
    "        1\n",
    "    \\end{bmatrix}\n",
    "\\end{equation}"
   ]
  },
  {
   "cell_type": "code",
   "execution_count": 1,
   "metadata": {},
   "outputs": [],
   "source": [
    "import matplotlib.pyplot as plt\n",
    "%matplotlib inline\n",
    "from matplotlib import patches\n",
    "import numpy as np\n",
    "import pandas as pd\n",
    "import matplotlib"
   ]
  },
  {
   "cell_type": "code",
   "execution_count": 3,
   "metadata": {
    "scrolled": true
   },
   "outputs": [
    {
     "data": {
      "image/png": "[encoded data removed]",
      "text/plain": [
       "<Figure size 576x288 with 2 Axes>"
      ]
     },
     "metadata": {
      "needs_background": "light"
     },
     "output_type": "display_data"
    }
   ],
   "source": [
    "fig, axes = plt.subplots(nrows=1, ncols=2, figsize=(8, 4))\n",
    "\n",
    "axes[0].set_aspect(\"equal\")\n",
    "axes[0].set_xlim(4950, 6050)\n",
    "axes[0].set_ylim(3450, 4550)\n",
    "axes[0].set_xticks(np.arange(5000,6100,500)) \n",
    "axes[0].set_xticks(np.arange(5000,6100,250), minor=True) \n",
    "axes[0].set_yticks(np.arange(3500,4600,500)) \n",
    "axes[0].set_yticks(np.arange(3500,4600,250), minor=True) \n",
    "lines = [(5200, 5800), (3700, 4300), \"red\", \n",
    "         (5400, 5400), (4400, 3600), \"red\"]\n",
    "axes[0].plot(*lines)\n",
    "\n",
    "\n",
    "a = np.zeros((11,11))\n",
    "a[1:10, 4] = 1\n",
    "a[np.arange(2, 9), np.arange(8,1,-1)] = 1\n",
    "\n",
    "axes[1].set_xticks(np.arange(0,11,5)) \n",
    "axes[1].set_xticks(np.arange(0,11,2.5), minor=True)\n",
    "axes[1].set_yticks(np.arange(0,11,5)) \n",
    "axes[1].set_yticks(np.arange(0,11,2.5), minor=True)\n",
    "axes[1].set_aspect(\"equal\")\n",
    "\n",
    "levels = [0, 1, 2]\n",
    "colors = ['white', 'grey']\n",
    "cmap, norm = matplotlib.colors.from_levels_and_colors(levels, colors)\n",
    "\n",
    "axes[1].imshow(a, cmap=cmap, interpolation='none', vmin=0, vmax=1, aspect='equal')\n",
    "\n",
    "def rect(pos, axisid=1, background=False):\n",
    "    if background is False:\n",
    "        r = plt.Rectangle(pos-0.5, 1, 1, facecolor=\"none\", edgecolor=\"k\", linewidth=2, linestyle=\"--\")\n",
    "    else:\n",
    "        r = plt.Rectangle(pos-0.5, 1, 1, facecolor=\"none\", edgecolor=\"k\", linewidth=1, linestyle=\":\")\n",
    "    axes[axisid].add_patch(r)\n",
    "\n",
    "x, y = np.meshgrid(np.arange(a.shape[1]), np.arange(a.shape[0]))\n",
    "\n",
    "m = np.c_[x[a.astype(bool)], y[a.astype(bool)]]\n",
    "\n",
    "b = np.ones((11,11))\n",
    "n = np.c_[x[b.astype(bool)], y[b.astype(bool)]]\n",
    "\n",
    "for pos in n:\n",
    "    rect(pos, background=True)\n",
    "    \n",
    "# vectors = np.array([(5200, 3700, 1), (5800, 4300, 1), (5400, 4400, 1), (5400, 3600, 1)])\n",
    "# vectors = vectors.transpose()\n",
    "\n",
    "# affine_mtx = np.array([[100, 0, 5000],\n",
    "#                        [0, -100, 4500],\n",
    "#                        [0, 0, 1]])\n",
    "# result = np.linalg.inv(affine_mtx).dot(vectors)\n",
    "\n",
    "plt.tight_layout()\n",
    "fig.savefig(\"./affine.png\", dpi=600)"
   ]
  }
 ],
 "metadata": {
  "kernelspec": {
   "display_name": "Python 3",
   "language": "python",
   "name": "python3"
  },
  "language_info": {
   "codemirror_mode": {
    "name": "ipython",
    "version": 3
   },
   "file_extension": ".py",
   "mimetype": "text/x-python",
   "name": "python",
   "nbconvert_exporter": "python",
   "pygments_lexer": "ipython3",
   "version": "3.6.8"
  }
 },
 "nbformat": 4,
 "nbformat_minor": 4
}
