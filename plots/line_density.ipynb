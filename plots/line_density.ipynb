{
 "cells": [
  {
   "cell_type": "code",
   "execution_count": 5,
   "metadata": {},
   "outputs": [],
   "source": [
    "import matplotlib.pyplot as plt\n",
    "%matplotlib inline\n",
    "from matplotlib import patches\n",
    "import numpy as np\n",
    "import pandas as pd\n",
    "import geopandas as gpd\n",
    "import matplotlib"
   ]
  },
  {
   "cell_type": "code",
   "execution_count": 10,
   "metadata": {},
   "outputs": [],
   "source": [
    "from rasterio.plot import show\n",
    "from matplotlib.patches import Polygon\n",
    "from matplotlib.collections import PatchCollection"
   ]
  },
  {
   "cell_type": "code",
   "execution_count": 6,
   "metadata": {},
   "outputs": [],
   "source": [
    "streets_gdf = gpd.read_file(\"./../pylusat/datasets/streets/streets.shp\")"
   ]
  },
  {
   "cell_type": "code",
   "execution_count": 7,
   "metadata": {},
   "outputs": [],
   "source": [
    "from pylusat.utils import rasterize_geometry\n",
    "streets_arr = rasterize_geometry(streets_gdf, 20)"
   ]
  },
  {
   "cell_type": "code",
   "execution_count": 189,
   "metadata": {},
   "outputs": [
    {
     "data": {
      "image/png": "[encoded data removed]",
      "text/plain": [
       "<Figure size 360x360 with 1 Axes>"
      ]
     },
     "metadata": {
      "needs_background": "light"
     },
     "output_type": "display_data"
    }
   ],
   "source": [
    "fig, ax = plt.subplots(nrows=1, ncols=1, figsize=(5, 5))\n",
    "ax.set_aspect('equal')\n",
    "\n",
    "left, right, bottom, top = 554676, 559500, 622563, 627232\n",
    "\n",
    "ax.set_xlim(left, right)\n",
    "ax.set_ylim(bottom, top)\n",
    "\n",
    "levels = [0, 1, 2]\n",
    "colors = ['white', 'steelblue']\n",
    "cmap, norm = matplotlib.colors.from_levels_and_colors(levels, colors)\n",
    "\n",
    "polygon_list = []\n",
    "for i in range(3):\n",
    "#     point_list = []\n",
    "    for j in range(4):\n",
    "\n",
    "#         x = left + np.random.randint(0, (j+1)*10)*100\n",
    "#         y = bottom + np.random.randint(0, (j+1)*10)*100\n",
    "        arr = np.array(to_convex_contour(5, i+j+26))\n",
    "        arr[:,0] = arr[:,0]*1500 + i*1500 + left + 100*j\n",
    "        arr[:,1] = arr[:,1]*1500 + i*1500 + bottom + 100*j\n",
    "    polygon = Polygon(arr, edgecolor=\"red\", facecolor=\"red\", \n",
    "                      linewidth=3, alpha=0.4)\n",
    "    ax.add_patch(polygon)\n",
    "\n",
    "show(streets_arr[0], cmap=cmap, ax=ax, transform=streets_arr[1])\n",
    "\n",
    "plt.tight_layout()\n",
    "\n",
    "fig.savefig(\"./line_density.png\", dpi=450)"
   ]
  },
  {
   "cell_type": "code",
   "execution_count": 131,
   "metadata": {},
   "outputs": [],
   "source": [
    "import random\n",
    "from math import atan2\n",
    "\n",
    "\n",
    "def to_convex_contour(vertices_count, seed=5,\n",
    "                      x_generator=random.random,\n",
    "                      y_generator=random.random):\n",
    "    \"\"\"\n",
    "    Port of Valtr algorithm by Sander Verdonschot.\n",
    "\n",
    "    Reference:\n",
    "        http://cglab.ca/~sander/misc/ConvexGeneration/ValtrAlgorithm.java\n",
    "\n",
    "    >>> contour = to_convex_contour(20)\n",
    "    >>> len(contour) == 20\n",
    "    True\n",
    "    \"\"\"\n",
    "    random.seed(seed)\n",
    "    xs = [x_generator() for _ in range(vertices_count)]\n",
    "    ys = [y_generator() for _ in range(vertices_count)]\n",
    "    xs = sorted(xs)\n",
    "    ys = sorted(ys)\n",
    "    min_x, *xs, max_x = xs\n",
    "    min_y, *ys, max_y = ys\n",
    "    vectors_xs = _to_vectors_coordinates(xs, min_x, max_x)\n",
    "    vectors_ys = _to_vectors_coordinates(ys, min_y, max_y)\n",
    "    random.shuffle(vectors_ys)\n",
    "\n",
    "    def to_vector_angle(vector):\n",
    "        x, y = vector\n",
    "        return atan2(y, x)\n",
    "\n",
    "    vectors = sorted(zip(vectors_xs, vectors_ys),\n",
    "                     key=to_vector_angle)\n",
    "    point_x = point_y = 0\n",
    "    min_polygon_x = min_polygon_y = 0\n",
    "    points = []\n",
    "    for vector_x, vector_y in vectors:\n",
    "        points.append((point_x, point_y))\n",
    "        point_x += vector_x\n",
    "        point_y += vector_y\n",
    "        min_polygon_x = min(min_polygon_x, point_x)\n",
    "        min_polygon_y = min(min_polygon_y, point_y)\n",
    "    shift_x, shift_y = min_x - min_polygon_x, min_y - min_polygon_y\n",
    "    return [(point_x + shift_x, point_y + shift_y)\n",
    "            for point_x, point_y in points]\n",
    "\n",
    "\n",
    "def _to_vectors_coordinates(coordinates, min_coordinate, max_coordinate):\n",
    "    last_min = last_max = min_coordinate\n",
    "    result = []\n",
    "    for coordinate in coordinates:\n",
    "        if _to_random_boolean():\n",
    "            result.append(coordinate - last_min)\n",
    "            last_min = coordinate\n",
    "        else:\n",
    "            result.append(last_max - coordinate)\n",
    "            last_max = coordinate\n",
    "    result.extend((max_coordinate - last_min,\n",
    "                   last_max - max_coordinate))\n",
    "    return result\n",
    "\n",
    "\n",
    "def _to_random_boolean():\n",
    "    return random.getrandbits(1)"
   ]
  }
 ],
 "metadata": {
  "kernelspec": {
   "display_name": "Python 3",
   "language": "python",
   "name": "python3"
  },
  "language_info": {
   "codemirror_mode": {
    "name": "ipython",
    "version": 3
   },
   "file_extension": ".py",
   "mimetype": "text/x-python",
   "name": "python",
   "nbconvert_exporter": "python",
   "pygments_lexer": "ipython3",
   "version": "3.6.8"
  }
 },
 "nbformat": 4,
 "nbformat_minor": 4
}
