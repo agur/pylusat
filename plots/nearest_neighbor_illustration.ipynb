{
 "cells": [
  {
   "cell_type": "code",
   "execution_count": 1,
   "metadata": {},
   "outputs": [],
   "source": [
    "import matplotlib.pyplot as plt\n",
    "%matplotlib inline\n",
    "from matplotlib import patches\n",
    "import numpy as np\n",
    "import pandas as pd\n",
    "import matplotlib"
   ]
  },
  {
   "cell_type": "markdown",
   "metadata": {},
   "source": [
    "## einsum to calculate closest"
   ]
  },
  {
   "cell_type": "code",
   "execution_count": 2,
   "metadata": {},
   "outputs": [],
   "source": [
    "def einsum_closest(source_xy, targets_xy, method='euclidean'):\n",
    "    source = np.asarray(source_xy)\n",
    "    deltas = targets_xy - source\n",
    "    if method.lower() == 'euclidean':\n",
    "        dist = np.sqrt(np.einsum('ij,ij->i', deltas, deltas))\n",
    "        return np.min(dist), np.argmin(dist)\n",
    "    elif method.lower() == 'manhattan':\n",
    "        dist = (\n",
    "            np.sqrt(np.einsum('i,i->i', deltas[:, 0], deltas[:, 0])) +\n",
    "            np.sqrt(np.einsum('i,i->i', deltas[:, 1], deltas[:, 1]))\n",
    "        )\n",
    "        return np.min(dist), np.argmin(dist)\n",
    "    else:\n",
    "        raise ValueError('a valid method is either \"Euclidean\", or \"Manhattan\".')"
   ]
  },
  {
   "cell_type": "code",
   "execution_count": 3,
   "metadata": {},
   "outputs": [],
   "source": [
    "def nearest_neighbor(sources_xy, targets_xy):\n",
    "    f = lambda source: einsum_closest(source, targets_xy)[1]\n",
    "    return np.array(list(map(f, sources_xy)))"
   ]
  },
  {
   "cell_type": "code",
   "execution_count": 4,
   "metadata": {},
   "outputs": [],
   "source": [
    "def plotArrow(A, B, ax):\n",
    "    arrow = ax.arrow(A[0], A[1], B[0]-A[0], B[1]-A[1], head_width=0.15, \n",
    "            color='black', linestyle=(1,(5,5)), head_length=0.2,\n",
    "            length_includes_head=True, overhang=0.5, label=\"distance\")\n",
    "    return arrow"
   ]
  },
  {
   "cell_type": "code",
   "execution_count": 10,
   "metadata": {},
   "outputs": [
    {
     "data": {
      "image/png": "[encoded data removed]",
      "text/plain": [
       "<Figure size 360x360 with 1 Axes>"
      ]
     },
     "metadata": {
      "needs_background": "light"
     },
     "output_type": "display_data"
    }
   ],
   "source": [
    "np.random.seed(5)\n",
    "\n",
    "x1 = np.random.rand(9) * 10\n",
    "y1 = np.random.rand(9) * 10\n",
    "x2 = np.random.rand(20) * 10\n",
    "y2 = np.random.rand(20) * 10\n",
    "\n",
    "nearest_array = nearest_neighbor(np.column_stack((x1, y1)), np.column_stack((x2, y2)))\n",
    "\n",
    "fig, ax = plt.subplots(figsize=(5,5))\n",
    "ax.set_aspect('equal')\n",
    "\n",
    "ax.set_xlim(0, 10)\n",
    "ax.set_ylim(0, 10)\n",
    "\n",
    "\n",
    "ax.grid(True, 'both', linestyle=\"--\")\n",
    "\n",
    "source = ax.plot(x1, y1, 'ro', label=\"Sources\")\n",
    "target = ax.plot(x2, y2, 'bo', label=\"Targets\")\n",
    "\n",
    "ax.set_aspect('equal')\n",
    "\n",
    "for source, target in enumerate(nearest_array):\n",
    "    plotArrow((x1[source], y1[source]), (x2[target], y2[target]), ax)\n",
    "    \n",
    "# arrow1.set_label = \"Distance to NN\"\n",
    "\n",
    "patches = [ax.plot([],[], marker=\"o\", ls=\"\", color='red', label=\"Sources\")[0],\n",
    "           ax.plot([],[], marker=\"o\", ls=\"\", color='blue', label=\"Targets\")[0], \n",
    "           ax.plot([],[], marker=\"$--->$\", ms=25, ls=\"\", color='black', label=\"Distance to NN\")[0]]\n",
    "           \n",
    "ax.legend(handles=patches, loc=\"best\", fontsize=\"medium\")\n",
    "plt.tight_layout()\n",
    "\n",
    "fig.savefig(\"./nearest_neighbor_illustration.png\", dpi=300)"
   ]
  },
  {
   "cell_type": "code",
   "execution_count": null,
   "metadata": {},
   "outputs": [],
   "source": []
  }
 ],
 "metadata": {
  "kernelspec": {
   "display_name": "Python 3",
   "language": "python",
   "name": "python3"
  },
  "language_info": {
   "codemirror_mode": {
    "name": "ipython",
    "version": 3
   },
   "file_extension": ".py",
   "mimetype": "text/x-python",
   "name": "python",
   "nbconvert_exporter": "python",
   "pygments_lexer": "ipython3",
   "version": "3.6.8"
  }
 },
 "nbformat": 4,
 "nbformat_minor": 4
}
